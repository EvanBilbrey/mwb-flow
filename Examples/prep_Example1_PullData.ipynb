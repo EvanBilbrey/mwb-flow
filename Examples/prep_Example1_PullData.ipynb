{
 "cells": [
  {
   "cell_type": "markdown",
   "metadata": {},
   "source": [
    "# mwb_flow.prep Package Example\n",
    "This notebook provides a complete example of acquiring meterology data and combining it with stream gage data to produce a formatted input data file for running the monthly water balance flow (mwb_flow) model (Gray and McCabe, 2010).\n",
    "A subset of dates were used (1/1/2016 - 12/31/2016) to reduce the time spent getting gridmet data while testing."
   ]
  },
  {
   "cell_type": "markdown",
   "metadata": {},
   "source": [
    "First import necessary packages/modules"
   ]
  },
  {
   "cell_type": "code",
   "execution_count": null,
   "metadata": {},
   "outputs": [],
   "source": [
    "import os\n",
    "from pathlib import Path\n",
    "import geopandas as gpd\n",
    "import xarray as xr\n",
    "\n",
    "\n",
    "\n",
    "mwb_flow_dir = r'C:\\Users\\CND905\\Downloaded_Programs\\mwb_flow'\n",
    "os.chdir(mwb_flow_dir)\n",
    "\n",
    "from prep.datafile import CreateInputFile\n",
    "from prep.metdata import get_gridmet_at_points\n",
    "from prep.datafile import check_format"
   ]
  },
  {
   "cell_type": "markdown",
   "metadata": {},
   "source": [
    "Import a shape file with deliniated watershed polygon. This shape file has an attribute table with a column used to index the geometries. In this case, a column gage station numbers was used since the numbers will later be used to merge meterologic data with streamflow data."
   ]
  },
  {
   "cell_type": "code",
   "execution_count": null,
   "metadata": {},
   "outputs": [],
   "source": [
    "exres_pth = Path(r'C:\\Users\\CND905\\Downloaded_Programs\\mwb_flow\\Examples\\data\\Lolo_WB_Model_Calibration_Catchments_32611.shp')\n",
    "exres = gpd.read_file(exres_pth)\n",
    "# This file is in crs 32611 (WGS84 UTM zone 11N), need it to be 4326 for getting GridMET.\n",
    "exres = exres.to_crs(4326)"
   ]
  },
  {
   "cell_type": "code",
   "execution_count": null,
   "metadata": {},
   "outputs": [],
   "source": [
    "# This example provides a unique identifier column rather than using the default DataFrame index.\n",
    "# TODO change the gdf_index_col to accept full gage ID numbers?\n",
    "exres_met = get_gridmet_at_points(exres, 'gageID', start='2016-01-01', end='2016-12-31')"
   ]
  },
  {
   "cell_type": "markdown",
   "metadata": {},
   "source": [
    "A object with meterology data was made using the CreateInputFile class. This class initialization and methods have been edited from the pydlem.prep module which required lake parameters inputs. This class will be further updated to create a method for merg stream gage data. Note that the data frequency is daily and needs to be reduced to monthly. \n",
    "This cell is here to demonstrate/test if the updated CreateInputFile code is working for now.  "
   ]
  },
  {
   "cell_type": "code",
   "execution_count": null,
   "metadata": {},
   "outputs": [],
   "source": [
    "test = CreateInputFile(geoms=None, met_data=exres_met, met_source='from_file')\n",
    "test.data"
   ]
  },
  {
   "cell_type": "markdown",
   "metadata": {},
   "source": [
    "The daily temperature and precipitation data are summarised to monthly frequencies below. The resample function allows for simple grouping and the application of mathamatical functions. However, doing so changes the dimentions of an array, which makes this tricky. Perhaps a diffrent workflow is needed. \n",
    "\n",
    "Here, the daily temperature is averaged to calculate the monthly temperature. "
   ]
  },
  {
   "cell_type": "code",
   "execution_count": null,
   "metadata": {},
   "outputs": [],
   "source": [
    "# Calculate daily mean air temperature then followed by the monthly mean air temperature\n",
    "mean_temp = ((exres_met.min_temp + exres_met.max_temp) / 2) - 273.15  # also convert to Celcius from GridMET native Kelvin\n",
    "mean_temp\n",
    "monthly_temp = mean_temp.resample(time = \"MS\").mean()\n",
    "\n",
    "# Convert to a DataArray with attributes and title\n",
    "Monthly_Temp = xr.DataArray(monthly_temp, coords=monthly_temp.coords, attrs={'standard_name': 'Monthly_Temperature', 'units': 'Celcius'})\n",
    "Monthly_Temp.name = 'mo_temp'\n",
    "Monthly_Temp"
   ]
  },
  {
   "cell_type": "markdown",
   "metadata": {},
   "source": [
    "And the daily precipitation summed to calcualte the montly precipitation. "
   ]
  },
  {
   "cell_type": "code",
   "execution_count": null,
   "metadata": {},
   "outputs": [],
   "source": [
    "# Calculate the monthly precipitation\n",
    "monthly_precip = exres_met.precip.resample(time = \"MS\").sum()\n",
    "\n",
    "# Convert to a DataArray with attributes and title\n",
    "Monthly_Precip = xr.DataArray(monthly_precip, coords=monthly_precip.coords, attrs={'standard_name': 'Monthy Precipitation', 'units': 'mm'})\n",
    "Monthly_Precip.name = 'mo_precip'\n",
    "Monthly_Precip"
   ]
  },
  {
   "cell_type": "markdown",
   "metadata": {},
   "source": [
    "A DataArray of the monthly discharge is imported from the mwb_flow.q_datafile modual. This data was summarized by month, labeled with stream gage station number identifiers, and concatinated. T\n",
    "The dimentions are similar to the mo_temp and mo_precip DataArrays but the locations are in a diffrent order. The code in the mwb_flow.q_datafile modual can be cleaned up and formated as a class with methods for simpilar use. This example could be a \"from file\" argument when creating an object. \n",
    "\n",
    "Merging each varaible into a DataSet currently results in incorrect coordinates for the data. "
   ]
  },
  {
   "cell_type": "code",
   "execution_count": null,
   "metadata": {},
   "outputs": [],
   "source": [
    "Monthly_Q = xr.load_dataarray(r'C:\\Users\\CND905\\Downloaded_Programs\\mwb_flow\\prep\\q_datafile_output.nc')\n",
    "Monthly_Q"
   ]
  },
  {
   "cell_type": "markdown",
   "metadata": {},
   "source": [
    "xr.combine_by_coords can merg the Monthly_Temp and Montly_Precip DataArrays but has trouble merging with Montly_Q DataArray. Here, the dimentions increase from 6 locations to 12. Need to troubleshoot this to make sure the merging is reliable if using this workflow. "
   ]
  },
  {
   "cell_type": "code",
   "execution_count": null,
   "metadata": {},
   "outputs": [],
   "source": [
    "combined = xr.combine_by_coords(data_objects=[Monthly_Temp, Monthly_Precip, Monthly_Q])\n",
    "combined\n"
   ]
  }
 ],
 "metadata": {
  "kernelspec": {
   "display_name": "mwb_flow",
   "language": "python",
   "name": "python3"
  },
  "language_info": {
   "codemirror_mode": {
    "name": "ipython",
    "version": 3
   },
   "file_extension": ".py",
   "mimetype": "text/x-python",
   "name": "python",
   "nbconvert_exporter": "python",
   "pygments_lexer": "ipython3",
   "version": "3.9.20"
  }
 },
 "nbformat": 4,
 "nbformat_minor": 2
}
